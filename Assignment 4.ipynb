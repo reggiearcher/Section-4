{
 "cells": [
  {
   "cell_type": "code",
   "execution_count": 2,
   "id": "639de93a-a359-4536-9838-a511fc84eb8a",
   "metadata": {
    "tags": []
   },
   "outputs": [],
   "source": [
    "import pandas as pd "
   ]
  },
  {
   "cell_type": "code",
   "execution_count": 12,
   "id": "cf43937f-c3c1-4216-b759-8a29ec641da6",
   "metadata": {
    "tags": []
   },
   "outputs": [],
   "source": [
    "philly_roster = pd.read_csv('philly_roster.csv', index_col='Player')\n",
    "washington_roster =pd.read_csv('washington_roster.csv', index_col='Player')\n",
    "dallas_roster =pd.read_csv('dallas_roster.csv', index_col='Player')\n",
    "giants_roster =pd.read_csv('giants_roster.csv', index_col='Player')"
   ]
  },
  {
   "cell_type": "code",
   "execution_count": 15,
   "id": "5131a40d-2038-47ae-9ef8-b8a19125871d",
   "metadata": {
    "tags": []
   },
   "outputs": [],
   "source": [
    "master_roster = pd.concat([philly_roster,washington_roster,dallas_roster,giants_roster])"
   ]
  },
  {
   "cell_type": "code",
   "execution_count": 17,
   "id": "a15cefb4-6be0-4e7f-acdd-f760b3229b9d",
   "metadata": {
    "tags": []
   },
   "outputs": [],
   "source": [
    "master_roster.to_csv(\"master_roster_table.csv\")"
   ]
  },
  {
   "cell_type": "code",
   "execution_count": null,
   "id": "9b4806d9-ba93-4c2c-9b37-d7e5e4e31af5",
   "metadata": {},
   "outputs": [],
   "source": []
  }
 ],
 "metadata": {
  "kernelspec": {
   "display_name": "Python 3 (ipykernel)",
   "language": "python",
   "name": "python3"
  },
  "language_info": {
   "codemirror_mode": {
    "name": "ipython",
    "version": 3
   },
   "file_extension": ".py",
   "mimetype": "text/x-python",
   "name": "python",
   "nbconvert_exporter": "python",
   "pygments_lexer": "ipython3",
   "version": "3.11.5"
  }
 },
 "nbformat": 4,
 "nbformat_minor": 5
}
